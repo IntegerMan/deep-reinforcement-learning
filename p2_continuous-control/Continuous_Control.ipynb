{
 "cells": [
  {
   "cell_type": "markdown",
   "metadata": {},
   "source": [
    "# Continuous Control\n",
    "\n",
    "---\n",
    "\n",
    "In this notebook, you will learn how to use the Unity ML-Agents environment for the second project of the [Deep Reinforcement Learning Nanodegree](https://www.udacity.com/course/deep-reinforcement-learning-nanodegree--nd893) program.\n",
    "\n",
    "### 1. Start the Environment\n",
    "\n",
    "We begin by importing the necessary packages.  If the code cell below returns an error, please revisit the project instructions to double-check that you have installed [Unity ML-Agents](https://github.com/Unity-Technologies/ml-agents/blob/master/docs/Installation.md) and [NumPy](http://www.numpy.org/)."
   ]
  },
  {
   "cell_type": "markdown",
   "metadata": {},
   "source": [
    "Next, we will start the environment!  **_Before running the code cell below_**, change the `file_name` parameter to match the location of the Unity environment that you downloaded.\n",
    "\n",
    "- **Mac**: `\"path/to/Reacher.app\"`\n",
    "- **Windows** (x86): `\"path/to/Reacher_Windows_x86/Reacher.exe\"`\n",
    "- **Windows** (x86_64): `\"path/to/Reacher_Windows_x86_64/Reacher.exe\"`\n",
    "- **Linux** (x86): `\"path/to/Reacher_Linux/Reacher.x86\"`\n",
    "- **Linux** (x86_64): `\"path/to/Reacher_Linux/Reacher.x86_64\"`\n",
    "- **Linux** (x86, headless): `\"path/to/Reacher_Linux_NoVis/Reacher.x86\"`\n",
    "- **Linux** (x86_64, headless): `\"path/to/Reacher_Linux_NoVis/Reacher.x86_64\"`\n",
    "\n",
    "For instance, if you are using a Mac, then you downloaded `Reacher.app`.  If this file is in the same folder as the notebook, then the line below should appear as follows:\n",
    "```\n",
    "env = UnityEnvironment(file_name=\"Reacher.app\")\n",
    "```"
   ]
  },
  {
   "cell_type": "code",
   "execution_count": 1,
   "metadata": {},
   "outputs": [
    {
     "name": "stderr",
     "output_type": "stream",
     "text": [
      "INFO:unityagents:\n",
      "'Academy' started successfully!\n",
      "Unity Academy name: Academy\n",
      "        Number of Brains: 1\n",
      "        Number of External Brains : 1\n",
      "        Lesson number : 0\n",
      "        Reset Parameters :\n",
      "\t\tgoal_speed -> 1.0\n",
      "\t\tgoal_size -> 5.0\n",
      "Unity brain name: ReacherBrain\n",
      "        Number of Visual Observations (per agent): 0\n",
      "        Vector Observation space type: continuous\n",
      "        Vector Observation space size (per agent): 33\n",
      "        Number of stacked Vector Observation: 1\n",
      "        Vector Action space type: continuous\n",
      "        Vector Action space size (per agent): 4\n",
      "        Vector Action descriptions: , , , \n"
     ]
    }
   ],
   "source": [
    "from unityagents import UnityEnvironment\n",
    "import numpy as np\n",
    "\n",
    "env = UnityEnvironment(file_name='Reacher_Linux/Reacher.x86_64')"
   ]
  },
  {
   "cell_type": "markdown",
   "metadata": {},
   "source": [
    "Environments contain **_brains_** which are responsible for deciding the actions of their associated agents. Here we check for the first brain available, and set it as the default brain we will be controlling from Python."
   ]
  },
  {
   "cell_type": "code",
   "execution_count": 2,
   "metadata": {},
   "outputs": [],
   "source": [
    "# get the default brain\n",
    "brain_name = env.brain_names[0]\n",
    "brain = env.brains[brain_name]"
   ]
  },
  {
   "cell_type": "markdown",
   "metadata": {},
   "source": [
    "### 2. Examine the State and Action Spaces\n",
    "\n",
    "In this environment, a double-jointed arm can move to target locations. A reward of `+0.1` is provided for each step that the agent's hand is in the goal location. Thus, the goal of your agent is to maintain its position at the target location for as many time steps as possible.\n",
    "\n",
    "The observation space consists of `33` variables corresponding to position, rotation, velocity, and angular velocities of the arm.  Each action is a vector with four numbers, corresponding to torque applicable to two joints.  Every entry in the action vector must be a number between `-1` and `1`.\n",
    "\n",
    "Run the code cell below to print some information about the environment."
   ]
  },
  {
   "cell_type": "code",
   "execution_count": 3,
   "metadata": {},
   "outputs": [
    {
     "name": "stdout",
     "output_type": "stream",
     "text": [
      "Number of agents: 1\n",
      "Size of each action: 4\n",
      "There are 1 agents. Each observes a state with length: 33\n",
      "The state for the first agent looks like: [ 0.00000000e+00 -4.00000000e+00  0.00000000e+00  1.00000000e+00\n",
      " -0.00000000e+00 -0.00000000e+00 -4.37113883e-08  0.00000000e+00\n",
      "  0.00000000e+00  0.00000000e+00  0.00000000e+00  0.00000000e+00\n",
      "  0.00000000e+00  0.00000000e+00 -1.00000000e+01  0.00000000e+00\n",
      "  1.00000000e+00 -0.00000000e+00 -0.00000000e+00 -4.37113883e-08\n",
      "  0.00000000e+00  0.00000000e+00  0.00000000e+00  0.00000000e+00\n",
      "  0.00000000e+00  0.00000000e+00  5.75471878e+00 -1.00000000e+00\n",
      "  5.55726671e+00  0.00000000e+00  1.00000000e+00  0.00000000e+00\n",
      " -1.68164849e-01]\n"
     ]
    }
   ],
   "source": [
    "# reset the environment\n",
    "env_info = env.reset(train_mode=True)[brain_name]\n",
    "\n",
    "# number of agents\n",
    "num_agents = len(env_info.agents)\n",
    "print('Number of agents:', num_agents)\n",
    "\n",
    "# size of each action\n",
    "action_size = brain.vector_action_space_size\n",
    "print('Size of each action:', action_size)\n",
    "\n",
    "# examine the state space \n",
    "states = env_info.vector_observations\n",
    "state_size = states.shape[1]\n",
    "print('There are {} agents. Each observes a state with length: {}'.format(states.shape[0], state_size))\n",
    "print('The state for the first agent looks like:', states[0])"
   ]
  },
  {
   "cell_type": "markdown",
   "metadata": {},
   "source": [
    "### 3. Take Random Actions in the Environment\n",
    "\n",
    "In the next code cell, you will learn how to use the Python API to control the agent and receive feedback from the environment.\n",
    "\n",
    "Once this cell is executed, you will watch the agent's performance, if it selects an action at random with each time step.  A window should pop up that allows you to observe the agent, as it moves through the environment.  \n",
    "\n",
    "Of course, as part of the project, you'll have to change the code so that the agent is able to use its experience to gradually choose better actions when interacting with the environment!"
   ]
  },
  {
   "cell_type": "code",
   "execution_count": 4,
   "metadata": {},
   "outputs": [],
   "source": [
    "# env_info = env.reset(train_mode=False)[brain_name]     # reset the environment    \n",
    "# states = env_info.vector_observations                  # get the current state (for each agent)\n",
    "# scores = np.zeros(num_agents)                          # initialize the score (for each agent)\n",
    "# while True:\n",
    "#     actions = np.random.randn(num_agents, action_size) # select an action (for each agent)\n",
    "#     actions = np.clip(actions, -1, 1)                  # all actions between -1 and 1\n",
    "#     env_info = env.step(actions)[brain_name]           # send all actions to tne environment\n",
    "#     next_states = env_info.vector_observations         # get next state (for each agent)\n",
    "#     rewards = env_info.rewards                         # get reward (for each agent)\n",
    "#     dones = env_info.local_done                        # see if episode finished\n",
    "#     scores += env_info.rewards                         # update the score (for each agent)\n",
    "#     states = next_states                               # roll over states to next time step\n",
    "#     if np.any(dones):                                  # exit loop if episode finished\n",
    "#         break\n",
    "# print('Total score (averaged over agents) this episode: {}'.format(np.mean(scores)))"
   ]
  },
  {
   "cell_type": "markdown",
   "metadata": {},
   "source": [
    "When finished, you can close the environment."
   ]
  },
  {
   "cell_type": "code",
   "execution_count": 5,
   "metadata": {},
   "outputs": [],
   "source": [
    "# env.close()"
   ]
  },
  {
   "cell_type": "markdown",
   "metadata": {},
   "source": [
    "### 4. It's Your Turn!\n",
    "\n",
    "Now it's your turn to train your own agent to solve the environment!  When training the environment, set `train_mode=True`, so that the line for resetting the environment looks like the following:\n",
    "```python\n",
    "env_info = env.reset(train_mode=True)[brain_name]\n",
    "```"
   ]
  },
  {
   "cell_type": "code",
   "execution_count": 6,
   "metadata": {},
   "outputs": [],
   "source": [
    "from unityagents import UnityEnvironment\n",
    "from collections import deque\n",
    "from Agent import Agent\n",
    "\n",
    "import numpy as np\n",
    "import torch"
   ]
  },
  {
   "cell_type": "code",
   "execution_count": 7,
   "metadata": {},
   "outputs": [
    {
     "name": "stdout",
     "output_type": "stream",
     "text": [
      "Episode 10\tAverage Score: 0.00\n",
      "Episode 20\tAverage Score: 0.04\n",
      "Episode 30\tAverage Score: 0.12\n",
      "Episode 40\tAverage Score: 0.22\n",
      "Episode 50\tAverage Score: 0.31\n",
      "Episode 60\tAverage Score: 0.43\n",
      "Episode 70\tAverage Score: 0.54\n",
      "Episode 80\tAverage Score: 0.70\n",
      "Episode 90\tAverage Score: 0.85\n",
      "Episode 100\tAverage Score: 0.98\n",
      "Episode 110\tAverage Score: 1.20\n",
      "Episode 120\tAverage Score: 1.41\n",
      "Episode 130\tAverage Score: 1.62\n",
      "Episode 140\tAverage Score: 1.79\n",
      "Episode 150\tAverage Score: 1.95\n",
      "Episode 160\tAverage Score: 2.08\n",
      "Episode 170\tAverage Score: 2.19\n",
      "Episode 180\tAverage Score: 2.23\n",
      "Episode 190\tAverage Score: 2.27\n",
      "Episode 200\tAverage Score: 2.30\n",
      "Episode 210\tAverage Score: 2.33\n",
      "Episode 220\tAverage Score: 2.36\n",
      "Episode 230\tAverage Score: 2.38\n",
      "Episode 240\tAverage Score: 2.42\n",
      "Episode 250\tAverage Score: 2.45\n",
      "Episode 260\tAverage Score: 2.49\n",
      "Episode 270\tAverage Score: 2.54\n",
      "Episode 280\tAverage Score: 2.58\n",
      "Episode 290\tAverage Score: 2.63\n",
      "Episode 300\tAverage Score: 2.65\n",
      "Episode 310\tAverage Score: 2.68\n",
      "Episode 320\tAverage Score: 2.70\n",
      "Episode 330\tAverage Score: 2.72\n",
      "Episode 340\tAverage Score: 2.73\n",
      "Episode 350\tAverage Score: 2.75\n",
      "Episode 360\tAverage Score: 2.77\n",
      "Episode 370\tAverage Score: 2.79\n",
      "Episode 380\tAverage Score: 2.81\n",
      "Episode 390\tAverage Score: 2.83\n",
      "Episode 400\tAverage Score: 2.86\n",
      "Episode 410\tAverage Score: 2.88\n",
      "Episode 420\tAverage Score: 2.91\n",
      "Episode 430\tAverage Score: 2.93\n",
      "Episode 440\tAverage Score: 2.97\n",
      "Episode 450\tAverage Score: 3.01\n",
      "Episode 460\tAverage Score: 3.04\n",
      "Episode 470\tAverage Score: 3.07\n",
      "Episode 480\tAverage Score: 3.10\n",
      "Episode 490\tAverage Score: 3.12\n",
      "Episode 500\tAverage Score: 3.14\n"
     ]
    }
   ],
   "source": [
    "def train_agent(max_episodes=500, max_episode_time=250, score_threshold=30):\n",
    "\n",
    "    # Clear the scores    \n",
    "    avg_score = []\n",
    "    scores_deque = deque(maxlen=100)\n",
    "    scores = np.zeros(num_agents)\n",
    "\n",
    "    # Reset the game world\n",
    "    env_info = env.reset(train_mode=True)[brain_name]    \n",
    "    states = env_info.vector_observations\n",
    "    \n",
    "    # Define what agents will know\n",
    "    agent_tuple = {\n",
    "        \"state_size\": state_size, \n",
    "        \"action_size\": action_size, \n",
    "        \"random_seed\": 42, # Meaning of life, the universe, and everything\n",
    "    }\n",
    "    \n",
    "    # Create agents and actions\n",
    "    agents = [Agent(**agent_tuple) for _ in range(num_agents)]\n",
    "    action = [agent.act(states[i]) for i, agent in enumerate(agents)]   \n",
    "    \n",
    "    # Train until we reach the prescribed number of episodes\n",
    "    for i_episode in range(1, max_episodes+1):\n",
    "\n",
    "        # Reset states at the beginning of each episode\n",
    "        states = env_info.vector_observations                 \n",
    "        for agent in agents:\n",
    "            agent.reset()\n",
    "\n",
    "        # Train until the max time per episode is reached\n",
    "        for t in range(max_episode_time):\n",
    "\n",
    "            # Gather selected actions and update the environment\n",
    "            actions = [agent.act(states[i]) for i, agent in enumerate(agents)]            \n",
    "            env_info = env.step(actions)[brain_name]\n",
    "\n",
    "            # Update sim state\n",
    "            next_states = env_info.vector_observations         \n",
    "            rewards = env_info.rewards                         \n",
    "            done = env_info.local_done                       \n",
    "                        \n",
    "            # Act for each agent, telling them about their choices and advancing the simulation\n",
    "            step_t = zip(agents, states, actions, rewards, next_states, done)\n",
    "            for agent, state, action, reward, next_step, done in step_t:\n",
    "                agent.memory.add(state, action, reward, next_step, done)\n",
    "                step_frequency = 20\n",
    "                if ( t % step_frequency == 0):\n",
    "                    update_amount = 10\n",
    "                    agent.step(state, action, reward, next_step, done, update_amount)\n",
    "\n",
    "            states = next_states\n",
    "            scores += rewards                                  \n",
    "\n",
    "            # If we've finished training any agent, move on to the next episode\n",
    "            if np.any(done):                                 \n",
    "                break\n",
    "                \n",
    "        # Track our scores and averages\n",
    "        score = np.mean(scores)        \n",
    "        scores_deque.append(score)\n",
    "        avg = np.mean(scores_deque)\n",
    "        avg_score.append(score)\n",
    "\n",
    "        # Display updates every so often for live monitoring            \n",
    "        if (i_episode % 10 == 0):\n",
    "            print('\\rEpisode {}\\tAverage Score: {:.2f}'.format(i_episode, avg,), end=\"\\n\")\n",
    "\n",
    "        # Check to see if we've beaten the target threshold. If we have, save time by exiting now\n",
    "        if avg >= score_threshold:\n",
    "            print(\"\\r\\Threshold reached on episode {episode} with average of {avg}\\r\".format(episode=i_episode, avg=avg))\n",
    "            break\n",
    "\n",
    "    # Snapshot the actor and critic to files on disk so we have them later on\n",
    "    torch.save(agent.actor_local.state_dict(), 'snapshots/actor.pth')\n",
    "    torch.save(agent.critic_local.state_dict(), 'snapshots/critic.pth')\n",
    "    \n",
    "    return avg_score\n",
    "\n",
    "# Run the system and save the scores\n",
    "scores = train_agent()"
   ]
  },
  {
   "cell_type": "code",
   "execution_count": 8,
   "metadata": {},
   "outputs": [
    {
     "data": {
      "image/png": "[encoded data removed]",
      "text/plain": [
       "<Figure size 432x288 with 1 Axes>"
      ]
     },
     "metadata": {
      "needs_background": "light"
     },
     "output_type": "display_data"
    }
   ],
   "source": [
    "import matplotlib.pyplot as plt\n",
    "\n",
    "# Draw a line chart of the score by episode number\n",
    "fig = plt.figure()\n",
    "plt.plot(np.arange(1, len(scores)+1), scores)\n",
    "plt.ylabel('Score')\n",
    "plt.xlabel('Episode')\n",
    "\n",
    "plt.show()"
   ]
  },
  {
   "cell_type": "code",
   "execution_count": 9,
   "metadata": {},
   "outputs": [],
   "source": [
    "# Shut her down!\n",
    "env.close()"
   ]
  }
 ],
 "metadata": {
  "kernelspec": {
   "display_name": "drlnd",
   "language": "python",
   "name": "drlnd"
  },
  "language_info": {
   "codemirror_mode": {
    "name": "ipython",
    "version": 3
   },
   "file_extension": ".py",
   "mimetype": "text/x-python",
   "name": "python",
   "nbconvert_exporter": "python",
   "pygments_lexer": "ipython3",
   "version": "3.6.13"
  },
  "vscode": {
   "interpreter": {
    "hash": "916dbcbb3f70747c44a77c7bcd40155683ae19c65e1c03b4aa3499c5328201f1"
   }
  }
 },
 "nbformat": 4,
 "nbformat_minor": 2
}
